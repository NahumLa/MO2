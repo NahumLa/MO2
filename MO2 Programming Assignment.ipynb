{
 "cells": [
  {
   "cell_type": "code",
   "execution_count": 9,
   "id": "ce345adc",
   "metadata": {},
   "outputs": [
    {
     "name": "stdout",
     "output_type": "stream",
     "text": [
      "Too low!\n"
     ]
    }
   ],
   "source": [
    "#4.1\n",
    "\n",
    "secret = 5\n",
    "guess = 3\n",
    "\n",
    "if(guess < secret):\n",
    "    print(\"Too low!\")\n",
    "elif(guess > secret):\n",
    "    print(\"Too high!\")\n",
    "else:\n",
    "    print(\"Just right!\")\n",
    "    \n",
    "#4.1 end    "
   ]
  },
  {
   "cell_type": "code",
   "execution_count": 19,
   "id": "bfba4d61",
   "metadata": {},
   "outputs": [
    {
     "name": "stdout",
     "output_type": "stream",
     "text": [
      "It's a watermelon!\n"
     ]
    }
   ],
   "source": [
    "#4.2\n",
    "\n",
    "small = False\n",
    "green = True\n",
    "\n",
    "if small:\n",
    "    if green:\n",
    "        print(\"It's a pea!\")\n",
    "    else:\n",
    "        print(\"It's a cherry\")\n",
    "else:\n",
    "    if small == False:\n",
    "        if green:\n",
    "            print(\"It's a watermelon!\")\n",
    "        else:\n",
    "            print(\"It's a pumpkin!\")\n",
    "\n",
    "#4.2 end"
   ]
  },
  {
   "cell_type": "code",
   "execution_count": 24,
   "id": "e6074f35",
   "metadata": {},
   "outputs": [
    {
     "name": "stdout",
     "output_type": "stream",
     "text": [
      "Too low!\n",
      "Too low!\n",
      "Too low!\n",
      "Too low!\n",
      "Too low!\n",
      "Too low!\n",
      "Number found!\n"
     ]
    }
   ],
   "source": [
    "#6.2\n",
    "\n",
    "guess_me = 7\n",
    "number = 1\n",
    "\n",
    "while(number != guess_me):\n",
    "    print(\"Too low!\")\n",
    "    number += 1\n",
    "    \n",
    "print(\"Number found!\")\n",
    "\n",
    "#6.2 end"
   ]
  },
  {
   "cell_type": "code",
   "execution_count": 28,
   "id": "5b049045",
   "metadata": {},
   "outputs": [
    {
     "name": "stdout",
     "output_type": "stream",
     "text": [
      "Too low!\n",
      "Too low!\n",
      "Too low!\n",
      "Too low!\n",
      "Too low!\n",
      "Found it!\n"
     ]
    }
   ],
   "source": [
    "#6.3\n",
    "\n",
    "guess_me = 5\n",
    "\n",
    "for number in range(10):\n",
    "    if(number < guess_me):\n",
    "        print(\"Too low!\")\n",
    "    elif(number > guess_me):\n",
    "        print(\"Too high!\")\n",
    "        break\n",
    "    else:\n",
    "        print(\"Found it!\")\n",
    "        break\n",
    "        \n",
    "#6.3 end"
   ]
  }
 ],
 "metadata": {
  "kernelspec": {
   "display_name": "Python 3 (ipykernel)",
   "language": "python",
   "name": "python3"
  },
  "language_info": {
   "codemirror_mode": {
    "name": "ipython",
    "version": 3
   },
   "file_extension": ".py",
   "mimetype": "text/x-python",
   "name": "python",
   "nbconvert_exporter": "python",
   "pygments_lexer": "ipython3",
   "version": "3.9.12"
  }
 },
 "nbformat": 4,
 "nbformat_minor": 5
}
